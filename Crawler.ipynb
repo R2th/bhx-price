{
 "cells": [
  {
   "cell_type": "code",
   "execution_count": 1,
   "source": [
    "import json\n",
    "import pickle\n",
    "import time\n",
    "import requests\n",
    "from urllib.parse import urljoin\n",
    "from selenium import webdriver\n",
    "import pandas as pd\n",
    "from bs4 import BeautifulSoup"
   ],
   "outputs": [],
   "metadata": {}
  },
  {
   "cell_type": "code",
   "execution_count": 2,
   "source": [
    "HOME_URL = 'https://www.bachhoaxanh.com/'\n",
    "sidebar = BeautifulSoup(requests.get(HOME_URL).content, 'html.parser')\n",
    "categories = sidebar.find('aside').find('ul').find_all('a', href=True, class_='menu-haschild')\n",
    "sub_links = [a['href'] for a in categories]"
   ],
   "outputs": [],
   "metadata": {}
  },
  {
   "cell_type": "code",
   "execution_count": 233,
   "source": [
    "all_products = []\n",
    "for link in sub_links:\n",
    "    driver = webdriver.Firefox()\n",
    "\n",
    "    link = urljoin(HOME_URL, link)\n",
    "    driver.get(link + '#trang-99')\n",
    "\n",
    "    menu = driver.find_element_by_class_name('cate').get_attribute('innerHTML')\n",
    "\n",
    "    driver.close()\n",
    "    all_products.append(menu)\n"
   ],
   "outputs": [],
   "metadata": {}
  },
  {
   "cell_type": "code",
   "execution_count": 249,
   "source": [
    "pickle.dump(all_products, open('all_products_array.bin', 'wb'))"
   ],
   "outputs": [],
   "metadata": {}
  },
  {
   "cell_type": "code",
   "execution_count": 250,
   "source": [
    "json.dump(all_products, open('all_products_array.txt', 'w'), indent=2)"
   ],
   "outputs": [],
   "metadata": {}
  }
 ],
 "metadata": {
  "kernelspec": {
   "display_name": "Python 3",
   "language": "python",
   "name": "python3"
  },
  "language_info": {
   "codemirror_mode": {
    "name": "ipython",
    "version": 3
   },
   "file_extension": ".py",
   "mimetype": "text/x-python",
   "name": "python",
   "nbconvert_exporter": "python",
   "pygments_lexer": "ipython3",
   "version": "3.8.5"
  }
 },
 "nbformat": 4,
 "nbformat_minor": 5
}